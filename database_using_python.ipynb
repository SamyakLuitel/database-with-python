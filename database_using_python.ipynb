{
 "cells": [
  {
   "cell_type": "code",
   "execution_count": 41,
   "metadata": {},
   "outputs": [],
   "source": [
    "import sqlite3"
   ]
  },
  {
   "cell_type": "code",
   "execution_count": 42,
   "metadata": {},
   "outputs": [],
   "source": [
    "conn = sqlite3.connect(\"emailcountdb.slite\")\n",
    "cur =conn.cursor()"
   ]
  },
  {
   "cell_type": "code",
   "execution_count": 43,
   "metadata": {},
   "outputs": [
    {
     "data": {
      "text/plain": [
       "<sqlite3.Cursor at 0x7f20bc9132d0>"
      ]
     },
     "execution_count": 43,
     "metadata": {},
     "output_type": "execute_result"
    }
   ],
   "source": [
    "cur.execute(\"\"\"\n",
    "DROP TABLE IF EXISTS Counts\"\"\")"
   ]
  },
  {
   "cell_type": "code",
   "execution_count": 44,
   "metadata": {},
   "outputs": [
    {
     "data": {
      "text/plain": [
       "<sqlite3.Cursor at 0x7f20bc9132d0>"
      ]
     },
     "execution_count": 44,
     "metadata": {},
     "output_type": "execute_result"
    }
   ],
   "source": [
    "cur.execute(\"\"\"\n",
    "CREATE TABLE Counts(email TEXT, COUNT INTEGER)\"\"\")\n"
   ]
  },
  {
   "cell_type": "code",
   "execution_count": 45,
   "metadata": {},
   "outputs": [
    {
     "name": "stdout",
     "output_type": "stream",
     "text": [
      "enter file name:\n",
      "cwen@iupui.edu 5\n",
      "zqian@umich.edu 4\n",
      "david.horwitz@uct.ac.za 4\n",
      "louis@media.berkeley.edu 3\n",
      "gsilver@umich.edu 3\n",
      "stephen.marquard@uct.ac.za 2\n",
      "rjlowe@iupui.edu 2\n",
      "wagnermr@iupui.edu 1\n",
      "antranig@caret.cam.ac.uk 1\n",
      "gopal.ramasammycook@gmail.com 1\n"
     ]
    }
   ],
   "source": [
    "fname = input(\"enter file name:\")\n",
    "if(len(fname)<1): fname =\"mbox-short.txt\"\n",
    "fh = open(fname)\n",
    "for line in fh:\n",
    "    if not line.startswith(\"From: \"): continue\n",
    "    pieces = line.split()\n",
    "    email =pieces[1]\n",
    "    cur.execute(\"\"\"SELECT count FROM Counts WHERE email = ?\"\"\",(email,))\n",
    "    row = cur.fetchone()\n",
    "    if row is None:\n",
    "        cur.execute(\"\"\"INSERT INTO Counts (email, count)\n",
    "                VALUES (?,1)\"\"\",(email,))\n",
    "    else:\n",
    "        cur.execute(\"UPDATE Counts SET count = count+1 WHERE email =?\",\n",
    "                   (email,))\n",
    "    conn.commit()\n",
    "    \n",
    "sqlstr =\"SELECT email, count FROM Counts ORDER BY count DESC LIMIT 10\"\n",
    "\n",
    "for row in  cur.execute(sqlstr):\n",
    "    print(str(row[0]), row[1])\n",
    "    \n",
    "cur.close()\n"
   ]
  },
  {
   "cell_type": "code",
   "execution_count": null,
   "metadata": {},
   "outputs": [],
   "source": []
  }
 ],
 "metadata": {
  "kernelspec": {
   "display_name": "Python 3",
   "language": "python",
   "name": "python3"
  },
  "language_info": {
   "codemirror_mode": {
    "name": "ipython",
    "version": 3
   },
   "file_extension": ".py",
   "mimetype": "text/x-python",
   "name": "python",
   "nbconvert_exporter": "python",
   "pygments_lexer": "ipython3",
   "version": "3.7.4"
  }
 },
 "nbformat": 4,
 "nbformat_minor": 2
}
